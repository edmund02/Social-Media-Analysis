{
 "cells": [
  {
   "cell_type": "code",
   "execution_count": 1,
   "metadata": {},
   "outputs": [],
   "source": [
    "#Variables that contains the user credentials to access Twitter API\n",
    "access_token = \"\"\n",
    "access_token_secret = \"\"\n",
    "consumer_key = \"\"\n",
    "consumer_secret = \"\"\n",
    "\n",
    "import os\n",
    "import sys\n",
    "import json\n",
    "import time\n",
    "import math\n",
    "from tweepy import Cursor\n",
    "import tweepy\n",
    "from tweepy import OAuthHandler\n",
    "import networkx as nx\n",
    "import pprint \n",
    "pp = pprint.PrettyPrinter(indent=3)\n",
    "from operator import itemgetter\n",
    "\n",
    "# authentication\n",
    "auth = OAuthHandler(consumer_key, consumer_secret)\n",
    "auth.set_access_token(access_token, access_token_secret)\n",
    "api = tweepy.API(auth)"
   ]
  },
  {
   "cell_type": "markdown",
   "metadata": {},
   "source": [
    "# Scrape Friends of OnePlus"
   ]
  },
  {
   "cell_type": "code",
   "execution_count": 2,
   "metadata": {},
   "outputs": [
    {
     "name": "stdout",
     "output_type": "stream",
     "text": [
      "collecting data for oneplus\n",
      "task completed\n"
     ]
    }
   ],
   "source": [
    "MAX_FRIENDS = 15000\n",
    "\n",
    "def paginate(items, n):\n",
    "    \"\"\"Generate n-sized chunks from items\"\"\"\n",
    "    for i in range(0, len(items), n):\n",
    "        yield items[i:i+n]\n",
    "\n",
    "if __name__ == '__main__':\n",
    "    screen_name = \"oneplus\" #enter screen name on who you would like to check on it.\n",
    "    print(\"collecting data for \" + screen_name)\n",
    "    dirname = \"output/users/{}\".format(screen_name)\n",
    "    max_pages = math.ceil(MAX_FRIENDS / 5000)\n",
    "    try:\n",
    "        os.makedirs(dirname, mode=0o755, exist_ok=True)\n",
    "    except OSError:\n",
    "        print(\"Directory {} already exists\".format(dirname))\n",
    "    except Exception as e:\n",
    "        print(\"Error while creating directory {}\".format(dirname))\n",
    "        print(e)\n",
    "        sys.exit(1)\n",
    "               \n",
    "    # get friends for a given user\n",
    "    fname = \"output/users/{}/friends.json\".format(screen_name)\n",
    "    with open(fname, 'w') as f:\n",
    "        for friends in Cursor(api.friends_ids, screen_name=screen_name).pages(max_pages):\n",
    "            for chunk in paginate(friends, 100):\n",
    "                users = api.lookup_users(user_ids=chunk)\n",
    "                for user in users:\n",
    "                    f.write(json.dumps(user._json)+\"\\n\")\n",
    "            if len(friends) == 5000:\n",
    "                print(\"More results available. Sleeping for 60 seconds to avoid rate limit\")\n",
    "                time.sleep(60)\n",
    "    print(\"task completed\")"
   ]
  },
  {
   "cell_type": "markdown",
   "metadata": {},
   "source": [
    "# Scrape Friends of Friends "
   ]
  },
  {
   "cell_type": "code",
   "execution_count": 12,
   "metadata": {},
   "outputs": [
    {
     "name": "stdout",
     "output_type": "stream",
     "text": [
      "collecting data for OnePlus_NL\n",
      "task completed\n"
     ]
    }
   ],
   "source": [
    "import sys\n",
    "import json\n",
    "from random import sample\n",
    "\n",
    "def paginate(items, n):\n",
    "    \"\"\"Generate n-sized chunks from items\"\"\"\n",
    "    for i in range(0, len(items), n):\n",
    "        yield items[i:i+n]\n",
    "\n",
    "MAX_FRIENDS = 150000\n",
    "\n",
    "if __name__ == '__main__':\n",
    "    screen_name = \"oneplus\"\n",
    "    friends_file = 'output/users/{}/friends.json'.format(screen_name)\n",
    "    with open(friends_file) as f2:\n",
    "       \n",
    "        friends = []\n",
    "        for line in f2:\n",
    "            profile = json.loads(line)\n",
    "            friends.append(profile['screen_name'])\n",
    "            \n",
    "    \n",
    "    #Manually scrape the friends of friends since OnePlus has less friends        \n",
    "    screen_name = \"OnePlus_NL\" #enter screen name on who you would like to check on it.\n",
    "    print(\"collecting data for \" + screen_name)\n",
    "    dirname = \"output/users/oneplus/{}\".format(screen_name)\n",
    "    max_pages = math.ceil(MAX_FRIENDS / 5000)\n",
    "    try:\n",
    "        os.makedirs(dirname, mode=0o755, exist_ok=True)\n",
    "    except OSError:\n",
    "        print(\"Directory {} already exists\".format(dirname))\n",
    "    except Exception as e:\n",
    "        print(\"Error while creating directory {}\".format(dirname))\n",
    "        print(e)\n",
    "        sys.exit(1)\n",
    "\n",
    "    # get friends for a given user\n",
    "    fname = \"output/users/oneplus/{}/friends.json\".format(screen_name)\n",
    "    with open(fname, 'w') as f:\n",
    "        for friends in Cursor(api.friends_ids, screen_name=screen_name).pages(max_pages):\n",
    "            for chunk in paginate(friends, 100):\n",
    "                users = api.lookup_users(user_ids=chunk)\n",
    "                for user in users:\n",
    "                    f.write(json.dumps(user._json)+\"\\n\")\n",
    "            if len(friends) == 5000:\n",
    "                print(\"More results available. Sleeping for 60 seconds to avoid rate limit\")\n",
    "                time.sleep(60)\n",
    "    print(\"task completed\")"
   ]
  },
  {
   "cell_type": "markdown",
   "metadata": {},
   "source": [
    "# Generate Node and Edge "
   ]
  },
  {
   "cell_type": "code",
   "execution_count": 29,
   "metadata": {},
   "outputs": [],
   "source": [
    "import sys\n",
    "import json\n",
    "from random import sample\n",
    "\n",
    "if __name__ == '__main__':\n",
    "    screen_name = \"oneplus\"\n",
    "\n",
    "    master_nodelist = []\n",
    "    master_edgelist = []\n",
    "    \n",
    "    friends_file = 'output/users/{}/friends.json'.format(screen_name)\n",
    "    with open(friends_file) as f2:\n",
    "       \n",
    "        friends = []\n",
    "        for line in f2:\n",
    "            profile = json.loads(line)\n",
    "            friends.append(profile['screen_name'])\n",
    "            \n",
    "    #Add to master edge and node list \n",
    "    master_nodelist.append('oneplus')\n",
    "    for x in range(0,len(friends)):\n",
    "        master_nodelist.append(friends[x])\n",
    "        master_edgelist.append(('oneplus',friends[x]))\n",
    "        \n",
    "    \n",
    "    oneplus_fof = {}\n",
    "    \n",
    "    for fr in friends:\n",
    "        fof_file = 'output/users/oneplus/{}/friends.json'.format(fr)\n",
    "        \n",
    "        with open(fof_file) as f2:\n",
    "\n",
    "            frlist = []\n",
    "            count = 0 \n",
    "            for line in f2:\n",
    "                if count <= 100:\n",
    "                    profile = json.loads(line)\n",
    "                    frlist.append(profile['screen_name'])\n",
    "                    count += 1\n",
    "                else:\n",
    "                    continue\n",
    "            oneplus_fof[fr] = frlist\n",
    "    \n",
    "    for fr in friends:\n",
    "        for fr2 in oneplus_fof[fr]:\n",
    "            if fr2 not in master_nodelist:\n",
    "                master_nodelist.append(fr2)\n",
    "                \n",
    "    for fr in friends:\n",
    "        for fr2 in oneplus_fof[fr]:\n",
    "            master_edgelist.append((fr,fr2))"
   ]
  },
  {
   "cell_type": "code",
   "execution_count": 30,
   "metadata": {},
   "outputs": [],
   "source": [
    "G = nx.Graph()\n",
    "\n",
    "G.add_nodes_from(master_nodelist)\n",
    "G.add_edges_from(master_edgelist)"
   ]
  },
  {
   "cell_type": "code",
   "execution_count": 31,
   "metadata": {},
   "outputs": [],
   "source": [
    "import community\n",
    "import matplotlib.pyplot as plt"
   ]
  },
  {
   "cell_type": "code",
   "execution_count": 32,
   "metadata": {},
   "outputs": [],
   "source": [
    "%matplotlib qt"
   ]
  },
  {
   "cell_type": "code",
   "execution_count": 33,
   "metadata": {},
   "outputs": [
    {
     "name": "stderr",
     "output_type": "stream",
     "text": [
      "C:\\Users\\Vincent\\Miniconda3\\lib\\site-packages\\networkx\\drawing\\nx_pylab.py:611: MatplotlibDeprecationWarning: isinstance(..., numbers.Number)\n",
      "  if cb.is_numlike(alpha):\n"
     ]
    }
   ],
   "source": [
    "#Based on Louvain heuristices\n",
    "#https://perso.uclouvain.be/vincent.blondel/research/louvain.html\n",
    "part = community.best_partition(G)\n",
    "\n",
    "\n",
    "# Color mapping using community structure\n",
    "values = [part.get(node) for node in G.nodes()]\n",
    "#values = [mod.get(node) for node in G.nodes()]\n",
    "d = dict(nx.degree(G))\n",
    "#https://networkx.github.io/documentation/networkx-1.10/reference/generated/networkx.drawing.nx_pylab.draw_networkx.html\n",
    "#https://matplotlib.org/examples/color/colormaps_reference.html\n",
    "nx.draw_spring(G, cmap=plt.get_cmap('Pastel1'), node_color = values, node_size=[v for v in d.values()], with_labels=True,\n",
    "              edge_color='grey')\n",
    "plt.show()"
   ]
  },
  {
   "cell_type": "markdown",
   "metadata": {},
   "source": [
    "# Number of nodes / edges"
   ]
  },
  {
   "cell_type": "code",
   "execution_count": 34,
   "metadata": {},
   "outputs": [
    {
     "name": "stdout",
     "output_type": "stream",
     "text": [
      "Nodes:  804\n",
      "Edges:  925\n"
     ]
    }
   ],
   "source": [
    "print('Nodes: ',G.number_of_nodes())\n",
    "print('Edges: ',G.number_of_edges())"
   ]
  },
  {
   "cell_type": "markdown",
   "metadata": {},
   "source": [
    "# Density"
   ]
  },
  {
   "cell_type": "code",
   "execution_count": 35,
   "metadata": {},
   "outputs": [
    {
     "name": "stdout",
     "output_type": "stream",
     "text": [
      "Network density: 0.0028654981629833397\n"
     ]
    }
   ],
   "source": [
    "density = nx.density(G)\n",
    "print(\"Network density:\", density)"
   ]
  },
  {
   "cell_type": "markdown",
   "metadata": {},
   "source": [
    "# Degree Centralities"
   ]
  },
  {
   "cell_type": "code",
   "execution_count": 36,
   "metadata": {},
   "outputs": [
    {
     "data": {
      "text/plain": [
       "[('OnePlus_ITA', 108),\n",
       " ('getpeid', 108),\n",
       " ('petelau2007', 107),\n",
       " ('LinusTech', 104),\n",
       " ('MKBHD', 104)]"
      ]
     },
     "execution_count": 36,
     "metadata": {},
     "output_type": "execute_result"
    }
   ],
   "source": [
    "degree_dict = dict(G.degree(G.nodes()))\n",
    "#pp.pprint(degree_dict)\n",
    "nx.set_node_attributes(G, name ='degree', values = degree_dict)\n",
    "\n",
    "sorted_degree = sorted(degree_dict.items(), key=itemgetter(1), reverse=True)\n",
    "sorted_degree[:5]"
   ]
  },
  {
   "cell_type": "markdown",
   "metadata": {},
   "source": [
    "# Declaring Centralities"
   ]
  },
  {
   "cell_type": "code",
   "execution_count": 37,
   "metadata": {},
   "outputs": [],
   "source": [
    "betweenness_dict = nx.betweenness_centrality(G) # Run betweenness centrality\n",
    "eigenvector_dict = nx.eigenvector_centrality_numpy(G) # Run eigenvector centrality\n",
    "\n",
    "# Assign each to an attribute in your network\n",
    "nx.set_node_attributes(G, name = 'betweenness', values = betweenness_dict)\n",
    "nx.set_node_attributes(G, name = 'eigenvector', values = eigenvector_dict)"
   ]
  },
  {
   "cell_type": "markdown",
   "metadata": {},
   "source": [
    "# Eigenvector Centrality"
   ]
  },
  {
   "cell_type": "code",
   "execution_count": 38,
   "metadata": {},
   "outputs": [
    {
     "name": "stdout",
     "output_type": "stream",
     "text": [
      "Modularity Class 0 Sorted by Eigenvector Centrality:\n",
      "Name: oneplus_fr | Eigenvector Centrality: 0.29151524126356676\n",
      "Name: OnePlus_USA | Eigenvector Centrality: 0.24230134184923727\n",
      "Name: oneplus | Eigenvector Centrality: 0.23284093770136374\n",
      "Name: OnePlus_UK | Eigenvector Centrality: 0.18831318449734108\n",
      "Name: OnePlus_Support | Eigenvector Centrality: 0.18439103296367723\n",
      "Name: OnePlus_ES | Eigenvector Centrality: 0.17642096285867132\n",
      "Name: OnePlus_IN | Eigenvector Centrality: 0.17473827969755368\n",
      "Name: OnePlus_DE | Eigenvector Centrality: 0.16414068233547782\n",
      "Name: OnePlus_NL | Eigenvector Centrality: 0.1434131099272123\n",
      "Name: OnePlus_BE | Eigenvector Centrality: 0.13503054845355233\n",
      "Name: OnePlus_FI | Eigenvector Centrality: 0.10632102369739269\n",
      "Name: FNATIC | Eigenvector Centrality: 0.06651158456165573\n",
      "Name: ElisaOyj | Eigenvector Centrality: 0.03049276422111289\n",
      "Name: nousparisstore | Eigenvector Centrality: 0.020236216054761\n",
      "Name: AndroMagOUATCH | Eigenvector Centrality: 0.020236216054761\n",
      "Name: WorldOfTwinsen | Eigenvector Centrality: 0.020236216054760996\n",
      "Name: Tonioo25 | Eigenvector Centrality: 0.020236216054760996\n",
      "Name: kholdstare0026 | Eigenvector Centrality: 0.020236216054760996\n",
      "Name: begeek | Eigenvector Centrality: 0.020236216054760992\n",
      "Name: VictorBouyssou | Eigenvector Centrality: 0.02023621605476099\n",
      "Name: WankilStudio | Eigenvector Centrality: 0.02023621605476099\n",
      "Name: terracid | Eigenvector Centrality: 0.02023621605476099\n",
      "Name: laink | Eigenvector Centrality: 0.02023621605476099\n",
      "Name: 01netTV | Eigenvector Centrality: 0.02023621605476099\n",
      "Name: TomsGuideFR | Eigenvector Centrality: 0.02023621605476099\n",
      "Name: OnePlus_SAV | Eigenvector Centrality: 0.020236216054760985\n",
      "Name: SwyZeOff | Eigenvector Centrality: 0.020236216054760985\n",
      "Name: UlrichRozier | Eigenvector Centrality: 0.020236216054760985\n",
      "Name: Shadow_France | Eigenvector Centrality: 0.020236216054760985\n",
      "Name: Slatefr | Eigenvector Centrality: 0.020236216054760985\n",
      "Name: TF1 | Eigenvector Centrality: 0.020236216054760985\n",
      "Name: wydden_ | Eigenvector Centrality: 0.020236216054760985\n",
      "Name: silexid | Eigenvector Centrality: 0.020236216054760985\n",
      "Name: JournalDuGeek | Eigenvector Centrality: 0.020236216054760985\n",
      "Name: _Aishy | Eigenvector Centrality: 0.020236216054760982\n",
      "Name: zmingyu | Eigenvector Centrality: 0.020236216054760982\n",
      "Name: SuND1N | Eigenvector Centrality: 0.020236216054760982\n",
      "Name: Francetele | Eigenvector Centrality: 0.020236216054760982\n",
      "Name: JDNebusiness | Eigenvector Centrality: 0.020236216054760982\n",
      "Name: EchosTechMedias | Eigenvector Centrality: 0.020236216054760982\n",
      "Name: Interflora | Eigenvector Centrality: 0.02023621605476098\n",
      "Name: PoissonFecond | Eigenvector Centrality: 0.02023621605476098\n",
      "Name: Palmatoro_VG | Eigenvector Centrality: 0.02023621605476098\n",
      "Name: radiofrance | Eigenvector Centrality: 0.02023621605476098\n",
      "Name: FranceOtv | Eigenvector Centrality: 0.02023621605476098\n",
      "Name: frenchweb | Eigenvector Centrality: 0.02023621605476098\n",
      "Name: LaFrenchTech | Eigenvector Centrality: 0.02023621605476098\n",
      "Name: Clubic | Eigenvector Centrality: 0.02023621605476098\n",
      "Name: FigaroTech | Eigenvector Centrality: 0.02023621605476098\n",
      "Name: TomsHardware_Fr | Eigenvector Centrality: 0.02023621605476098\n",
      "Name: twandroid | Eigenvector Centrality: 0.02023621605476098\n",
      "Name: PierreCroce | Eigenvector Centrality: 0.020236216054760975\n",
      "Name: Akis_Evan | Eigenvector Centrality: 0.020236216054760975\n",
      "Name: canalplus | Eigenvector Centrality: 0.020236216054760975\n",
      "Name: M6 | Eigenvector Centrality: 0.020236216054760975\n",
      "Name: lemondefr | Eigenvector Centrality: 0.020236216054760975\n",
      "Name: jonrussell | Eigenvector Centrality: 0.020236216054760975\n",
      "Name: M0NREAL | Eigenvector Centrality: 0.02023621605476097\n",
      "Name: JPfrusa | Eigenvector Centrality: 0.02023621605476097\n",
      "Name: pcuhm | Eigenvector Centrality: 0.02023621605476097\n",
      "Name: France3tv | Eigenvector Centrality: 0.02023621605476097\n",
      "Name: CNEWS | Eigenvector Centrality: 0.02023621605476097\n",
      "Name: France2tv | Eigenvector Centrality: 0.02023621605476097\n",
      "Name: libe | Eigenvector Centrality: 0.02023621605476097\n",
      "Name: android_france | Eigenvector Centrality: 0.02023621605476097\n",
      "Name: jeanthibeau | Eigenvector Centrality: 0.020236216054760968\n",
      "Name: FRSkyRRoZ | Eigenvector Centrality: 0.020236216054760968\n",
      "Name: TheiCollection | Eigenvector Centrality: 0.020236216054760968\n",
      "Name: Nems_Mt | Eigenvector Centrality: 0.020236216054760968\n",
      "Name: France5tv | Eigenvector Centrality: 0.020236216054760968\n",
      "Name: Ouaii | Eigenvector Centrality: 0.020236216054760968\n",
      "Name: meltyStyle | Eigenvector Centrality: 0.020236216054760968\n",
      "Name: ClubicBonsPlans | Eigenvector Centrality: 0.020236216054760968\n",
      "Name: maybejames | Eigenvector Centrality: 0.020236216054760968\n",
      "Name: PUBG_FR | Eigenvector Centrality: 0.020236216054760964\n",
      "Name: ppgarcia75 | Eigenvector Centrality: 0.020236216054760964\n",
      "Name: Warren4G_ | Eigenvector Centrality: 0.020236216054760964\n",
      "Name: France4tv | Eigenvector Centrality: 0.020236216054760964\n",
      "Name: 01net | Eigenvector Centrality: 0.020236216054760964\n",
      "Name: phonandroid | Eigenvector Centrality: 0.020236216054760964\n",
      "Name: GrablyR | Eigenvector Centrality: 0.02023621605476096\n",
      "Name: OnePlus_IDN | Eigenvector Centrality: 0.020236216054760954\n",
      "Name: TypicalGamer | Eigenvector Centrality: 0.016819917486188968\n",
      "Name: YouTube | Eigenvector Centrality: 0.01681991748618896\n",
      "Name: phoneradarblog | Eigenvector Centrality: 0.016819917486188957\n",
      "Name: FaZeDirty | Eigenvector Centrality: 0.016819917486188957\n",
      "Name: YouTubeGaming | Eigenvector Centrality: 0.016819917486188954\n",
      "Name: TwitterGaming | Eigenvector Centrality: 0.016819917486188954\n",
      "Name: LGUSAMobile | Eigenvector Centrality: 0.016819917486188954\n",
      "Name: androidcentral | Eigenvector Centrality: 0.01681991748618895\n",
      "Name: LaurenzSide | Eigenvector Centrality: 0.01681991748618895\n",
      "Name: samararedway | Eigenvector Centrality: 0.01681991748618895\n",
      "Name: Preston | Eigenvector Centrality: 0.01681991748618895\n",
      "Name: NikeNYC | Eigenvector Centrality: 0.016819917486188947\n",
      "Name: Postmates | Eigenvector Centrality: 0.01681991748618894\n",
      "Name: Twitter | Eigenvector Centrality: 0.01681991748618893\n",
      "Name: PHOENIXmagUK | Eigenvector Centrality: 0.013072202574831633\n",
      "Name: Nixxiom | Eigenvector Centrality: 0.013072202574831628\n",
      "Name: pccomponentes | Eigenvector Centrality: 0.012246676041782732\n",
      "Name: petesena | Eigenvector Centrality: 0.011394211488631812\n",
      "Name: Belsimpel | Eigenvector Centrality: 0.009955358303027326\n",
      "Name: BlindDaley | Eigenvector Centrality: 0.009955358303027323\n",
      "Name: OnePlus_SG | Eigenvector Centrality: 0.009373463084314101\n",
      "Name: DNA_fi | Eigenvector Centrality: 0.007380523904609635\n",
      "Name: ViihdeSport | Eigenvector Centrality: 0.007380523904609635\n",
      "Name: LanTrekRy | Eigenvector Centrality: 0.007380523904609634\n",
      "Name: teliafinland | Eigenvector Centrality: 0.00738052390460963\n",
      "Name: assemblyparty | Eigenvector Centrality: 0.00738052390460963\n",
      "Name: teliagamingfi | Eigenvector Centrality: 0.007380523904609629\n",
      "Name: yle_eurheilu | Eigenvector Centrality: 0.007380523904609627\n"
     ]
    }
   ],
   "source": [
    "nx.set_node_attributes(G, part, 'modularity')\n",
    "# First get a list of just the nodes in that class\n",
    "class0 = [n for n in G.nodes() if G.node[n]['modularity'] == 0]\n",
    "\n",
    "# Then create a dictionary of the eigenvector centralities of those nodes\n",
    "class0_eigenvector = {n:G.node[n]['eigenvector'] for n in class0}\n",
    "\n",
    "# Then sort that dictionary and print the first 5 results\n",
    "class0_sorted_by_eigenvector = sorted(class0_eigenvector.items(), key=itemgetter(1), reverse=True)\n",
    "\n",
    "print(\"Modularity Class 0 Sorted by Eigenvector Centrality:\")\n",
    "for node in class0_sorted_by_eigenvector:\n",
    "    print(\"Name:\", node[0], \"| Eigenvector Centrality:\", node[1])"
   ]
  },
  {
   "cell_type": "code",
   "execution_count": 39,
   "metadata": {},
   "outputs": [
    {
     "name": "stdout",
     "output_type": "stream",
     "text": [
      "Modularity Class 1 Sorted by Eigenvector Centrality:\n",
      "Name: McLarenF1 | Eigenvector Centrality: 0.11860165863479342\n",
      "Name: TechnicalGuruji | Eigenvector Centrality: 0.021736555649505072\n",
      "Name: AaronGillard_17 | Eigenvector Centrality: 0.008233013060256237\n",
      "Name: McLarenFanChina | Eigenvector Centrality: 0.008233013060256237\n",
      "Name: 24hoursoflemans | Eigenvector Centrality: 0.008233013060256235\n"
     ]
    }
   ],
   "source": [
    "nx.set_node_attributes(G, part, 'modularity')\n",
    "# First get a list of just the nodes in that class\n",
    "class1 = [n for n in G.nodes() if G.node[n]['modularity'] == 1]\n",
    "\n",
    "# Then create a dictionary of the eigenvector centralities of those nodes\n",
    "class1_eigenvector = {n:G.node[n]['eigenvector'] for n in class1}\n",
    "\n",
    "# Then sort that dictionary and print the first 5 results\n",
    "class1_sorted_by_eigenvector = sorted(class1_eigenvector.items(), key=itemgetter(1), reverse=True)\n",
    "\n",
    "print(\"Modularity Class 1 Sorted by Eigenvector Centrality:\")\n",
    "for node in class1_sorted_by_eigenvector[:5]:\n",
    "    print(\"Name:\", node[0], \"| Eigenvector Centrality:\", node[1])"
   ]
  },
  {
   "cell_type": "code",
   "execution_count": 40,
   "metadata": {},
   "outputs": [
    {
     "name": "stdout",
     "output_type": "stream",
     "text": [
      "Top 5 nodes by eigenvector centrality:\n",
      "('petelau2007', 0.3329461542501089)\n",
      "('OnePlus_ITA', 0.3141715130476302)\n",
      "('oneplus_fr', 0.29151524126356676)\n",
      "('getpeid', 0.2604352195519159)\n",
      "('OnePlus_USA', 0.24230134184923727)\n"
     ]
    }
   ],
   "source": [
    "sorted_eigen = sorted(eigenvector_dict.items(), key=itemgetter(1), reverse=True)\n",
    "\n",
    "n = 5\n",
    "print(\"Top {} nodes by eigenvector centrality:\".format(n))\n",
    "for b in sorted_eigen[:n]:\n",
    "    print(b)"
   ]
  },
  {
   "cell_type": "markdown",
   "metadata": {},
   "source": [
    "# Betweeness centrality"
   ]
  },
  {
   "cell_type": "code",
   "execution_count": 41,
   "metadata": {},
   "outputs": [
    {
     "name": "stdout",
     "output_type": "stream",
     "text": [
      "Top 5 nodes by betweenness centrality:\n",
      "('petelau2007', 0.24804129138486578)\n",
      "('OnePlus_ITA', 0.23854653649941543)\n",
      "('getpeid', 0.23112584630533883)\n",
      "('McLarenF1', 0.2299011660469444)\n",
      "('LinusTech', 0.21904889570164612)\n"
     ]
    }
   ],
   "source": [
    "sorted_betweenness = sorted(betweenness_dict.items(), key=itemgetter(1), reverse=True)\n",
    "\n",
    "n = 5\n",
    "print(\"Top {} nodes by betweenness centrality:\".format(n))\n",
    "for b in sorted_betweenness[:n]:\n",
    "    print(b)"
   ]
  },
  {
   "cell_type": "code",
   "execution_count": 42,
   "metadata": {},
   "outputs": [
    {
     "name": "stdout",
     "output_type": "stream",
     "text": [
      "Modularity Class 0 Sorted by Betweenness Centrality:\n",
      "Name: MKBHD | Betweenness Centrality: 0.2128401883692019\n",
      "Name: JeffBezos | Betweenness Centrality: 0.004913065996129168\n",
      "Name: ArdCB | Betweenness Centrality: 0.004512371323828688\n",
      "Name: Waymo | Betweenness Centrality: 0.004512371323828688\n",
      "Name: Razer | Betweenness Centrality: 0.00417028041052507\n",
      "Name: geekyranjit | Betweenness Centrality: 0.0024933469996180494\n",
      "Name: rodemics | Betweenness Centrality: 0.0024933469996180494\n",
      "Name: Eminem | Betweenness Centrality: 0.0\n",
      "Name: LikeTeslaKim | Betweenness Centrality: 0.0\n",
      "Name: TickTickTeam | Betweenness Centrality: 0.0\n",
      "Name: betablock3r | Betweenness Centrality: 0.0\n",
      "Name: BillGates | Betweenness Centrality: 0.0\n",
      "Name: rtingsdotcom | Betweenness Centrality: 0.0\n",
      "Name: willduwilldu | Betweenness Centrality: 0.0\n",
      "Name: gracemburke | Betweenness Centrality: 0.0\n",
      "Name: NBT88YT | Betweenness Centrality: 0.0\n",
      "Name: PixelFilmStudio | Betweenness Centrality: 0.0\n",
      "Name: LumaForge | Betweenness Centrality: 0.0\n",
      "Name: Erdayastronaut | Betweenness Centrality: 0.0\n",
      "Name: Co_Mill | Betweenness Centrality: 0.0\n",
      "Name: DougDeMuro | Betweenness Centrality: 0.0\n",
      "Name: jacksonhvisuals | Betweenness Centrality: 0.0\n",
      "Name: BenSullins | Betweenness Centrality: 0.0\n",
      "Name: ronnychieng | Betweenness Centrality: 0.0\n",
      "Name: CONTEMPORIST | Betweenness Centrality: 0.0\n",
      "Name: ashleyrcarman | Betweenness Centrality: 0.0\n",
      "Name: dami_lee | Betweenness Centrality: 0.0\n",
      "Name: olivernelson_ | Betweenness Centrality: 0.0\n",
      "Name: muse | Betweenness Centrality: 0.0\n",
      "Name: nerdcity | Betweenness Centrality: 0.0\n",
      "Name: stalman | Betweenness Centrality: 0.0\n",
      "Name: reneritchie | Betweenness Centrality: 0.0\n",
      "Name: loudmouthjulia | Betweenness Centrality: 0.0\n",
      "Name: AndrewSiwicki | Betweenness Centrality: 0.0\n",
      "Name: pwleys | Betweenness Centrality: 0.0\n",
      "Name: LeonLush | Betweenness Centrality: 0.0\n",
      "Name: rosterloh | Betweenness Centrality: 0.0\n",
      "Name: SNBrownlee | Betweenness Centrality: 0.0\n",
      "Name: KarlTowns | Betweenness Centrality: 0.0\n",
      "Name: itsnicolenguyen | Betweenness Centrality: 0.0\n",
      "Name: 368 | Betweenness Centrality: 0.0\n",
      "Name: calebpike | Betweenness Centrality: 0.0\n",
      "Name: replyall | Betweenness Centrality: 0.0\n",
      "Name: Flossycarter | Betweenness Centrality: 0.0\n",
      "Name: Megan_Nicolett | Betweenness Centrality: 0.0\n",
      "Name: Bugatti | Betweenness Centrality: 0.0\n",
      "Name: DJIGlobal | Betweenness Centrality: 0.0\n",
      "Name: CatOrBag | Betweenness Centrality: 0.0\n",
      "Name: woodhaus2 | Betweenness Centrality: 0.0\n",
      "Name: AnnaAkana | Betweenness Centrality: 0.0\n",
      "Name: mrjmedeiros | Betweenness Centrality: 0.0\n",
      "Name: cschonberger | Betweenness Centrality: 0.0\n",
      "Name: TaylorLorenz | Betweenness Centrality: 0.0\n",
      "Name: Pogue | Betweenness Centrality: 0.0\n",
      "Name: SimoneGiertz | Betweenness Centrality: 0.0\n",
      "Name: DillonFrancis | Betweenness Centrality: 0.0\n",
      "Name: Dannmace | Betweenness Centrality: 0.0\n",
      "Name: boringcompany | Betweenness Centrality: 0.0\n",
      "Name: theREALmarvin | Betweenness Centrality: 0.0\n",
      "Name: HyperChangeTV | Betweenness Centrality: 0.0\n",
      "Name: KnappInColor | Betweenness Centrality: 0.0\n",
      "Name: jimmychampane | Betweenness Centrality: 0.0\n",
      "Name: DavidDobrik | Betweenness Centrality: 0.0\n",
      "Name: seanseaevans | Betweenness Centrality: 0.0\n",
      "Name: Google_Comms | Betweenness Centrality: 0.0\n",
      "Name: 5tu | Betweenness Centrality: 0.0\n",
      "Name: StephenCurry30 | Betweenness Centrality: 0.0\n",
      "Name: Logic301 | Betweenness Centrality: 0.0\n",
      "Name: Jonathan__Casey | Betweenness Centrality: 0.0\n",
      "Name: empireultimate | Betweenness Centrality: 0.0\n",
      "Name: kevinolearytv | Betweenness Centrality: 0.0\n",
      "Name: mattdgonzalez | Betweenness Centrality: 0.0\n",
      "Name: JHarden13 | Betweenness Centrality: 0.0\n",
      "Name: bella_bongiorno | Betweenness Centrality: 0.0\n",
      "Name: thephysicsgirl | Betweenness Centrality: 0.0\n",
      "Name: USAUltimate | Betweenness Centrality: 0.0\n",
      "Name: KearnyPoint | Betweenness Centrality: 0.0\n",
      "Name: UrAvgGF | Betweenness Centrality: 0.0\n",
      "Name: Kira_byMP | Betweenness Centrality: 0.0\n",
      "Name: Misshattan | Betweenness Centrality: 0.0\n",
      "Name: cottonbureau | Betweenness Centrality: 0.0\n",
      "Name: daangvinh | Betweenness Centrality: 0.0\n",
      "Name: BrandonJHavard | Betweenness Centrality: 0.0\n",
      "Name: HoustonRockets | Betweenness Centrality: 0.0\n",
      "Name: whatsinside | Betweenness Centrality: 0.0\n",
      "Name: JeffBenjam | Betweenness Centrality: 0.0\n",
      "Name: djgreem | Betweenness Centrality: 0.0\n",
      "Name: HeyMarkL | Betweenness Centrality: 0.0\n",
      "Name: JonyIveParody | Betweenness Centrality: 0.0\n",
      "Name: PhilTEspo | Betweenness Centrality: 0.0\n",
      "Name: AllttaMusic | Betweenness Centrality: 0.0\n",
      "Name: TheeNerdwriter | Betweenness Centrality: 0.0\n",
      "Name: Kurz_Gesagt | Betweenness Centrality: 0.0\n"
     ]
    }
   ],
   "source": [
    "nx.set_node_attributes(G, part, 'modularity')\n",
    "# First get a list of just the nodes in that class\n",
    "class0 = [n for n in G.nodes() if G.node[n]['modularity'] == 4]\n",
    "\n",
    "# Then create a dictionary of the betweenness centralities of those nodes\n",
    "class0_eigenvector = {n:G.node[n]['betweenness'] for n in class0}\n",
    "\n",
    "# Then sort that dictionary and print the first 5 results\n",
    "class0_sorted_by_eigenvector = sorted(class0_eigenvector.items(), key=itemgetter(1), reverse=True)\n",
    "\n",
    "print(\"Modularity Class 0 Sorted by Betweenness Centrality:\")\n",
    "for node in class0_sorted_by_eigenvector:\n",
    "    print(\"Name:\", node[0], \"| Betweenness Centrality:\", node[1])"
   ]
  },
  {
   "cell_type": "markdown",
   "metadata": {},
   "source": [
    "# Generate Subgraph"
   ]
  },
  {
   "cell_type": "code",
   "execution_count": 45,
   "metadata": {},
   "outputs": [],
   "source": [
    "targetcom = [0,1] #Specify community\n",
    "subgra = []\n",
    "\n",
    "for x in part:\n",
    "    if part[x] in targetcom:\n",
    "        subgra.append(x)\n",
    "\n",
    "subgraph = G.subgraph(subgra)\n",
    "\n",
    "values2 = [part.get(node) for node in subgraph]"
   ]
  },
  {
   "cell_type": "code",
   "execution_count": 46,
   "metadata": {},
   "outputs": [
    {
     "name": "stderr",
     "output_type": "stream",
     "text": [
      "C:\\Users\\Vincent\\Miniconda3\\lib\\site-packages\\networkx\\drawing\\nx_pylab.py:611: MatplotlibDeprecationWarning: isinstance(..., numbers.Number)\n",
      "  if cb.is_numlike(alpha):\n"
     ]
    }
   ],
   "source": [
    "nx.draw_spring(subgraph, cmap=plt.get_cmap('Pastel1'), with_labels=True, node_color = values2)"
   ]
  },
  {
   "cell_type": "markdown",
   "metadata": {},
   "source": [
    "# Testing Area (Own Reference)"
   ]
  },
  {
   "cell_type": "code",
   "execution_count": 43,
   "metadata": {},
   "outputs": [
    {
     "name": "stdout",
     "output_type": "stream",
     "text": [
      "eigenvector:  0.3141715130476302\n",
      "betweeness:  0.23854653649941543\n",
      "degree:  108\n"
     ]
    }
   ],
   "source": [
    "target = 'OnePlus_ITA'\n",
    "print('eigenvector: ', eigenvector_dict[target])\n",
    "print('betweeness: ', betweenness_dict[target])\n",
    "print('degree: ', degree_dict[target])"
   ]
  },
  {
   "cell_type": "code",
   "execution_count": 44,
   "metadata": {},
   "outputs": [
    {
     "name": "stdout",
     "output_type": "stream",
     "text": [
      "Connected Nodes are  ('oneplus', 'OnePlus_FI')\n",
      "Connected Nodes are  ('oneplus', 'McLarenF1')\n",
      "Connected Nodes are  ('oneplus', 'OnePlus_USA')\n",
      "Connected Nodes are  ('oneplus', 'linusgsebastian')\n",
      "Connected Nodes are  ('oneplus', 'LinusTech')\n",
      "Connected Nodes are  ('oneplus', 'MKBHD')\n",
      "Connected Nodes are  ('oneplus', 'UnboxTherapy')\n",
      "Connected Nodes are  ('oneplus', 'OnePlus_ES')\n",
      "Connected Nodes are  ('oneplus', 'OnePlus_BE')\n",
      "Connected Nodes are  ('oneplus', 'OnePlus_NL')\n",
      "Connected Nodes are  ('oneplus', 'OnePlus_ITA')\n",
      "Connected Nodes are  ('oneplus', 'OnePlus_DE')\n",
      "Connected Nodes are  ('oneplus', 'getpeid')\n",
      "Connected Nodes are  ('oneplus', 'petelau2007')\n",
      "Connected Nodes are  ('oneplus', 'OnePlus_UK')\n",
      "Connected Nodes are  ('oneplus', 'oneplus_fr')\n",
      "Connected Nodes are  ('oneplus', 'OnePlus_Support')\n",
      "Connected Nodes are  ('oneplus', 'OnePlus_IN')\n",
      "Connected Nodes are  ('OnePlus_FI', 'oneplus')\n",
      "Connected Nodes are  ('McLarenF1', 'oneplus')\n",
      "Connected Nodes are  ('OnePlus_USA', 'oneplus')\n",
      "Connected Nodes are  ('LinusTech', 'oneplus')\n",
      "Connected Nodes are  ('OnePlus_BE', 'oneplus')\n",
      "Connected Nodes are  ('OnePlus_NL', 'oneplus')\n",
      "Connected Nodes are  ('OnePlus_DE', 'oneplus')\n",
      "Connected Nodes are  ('OnePlus_UK', 'oneplus')\n",
      "Connected Nodes are  ('oneplus_fr', 'oneplus')\n",
      "Connected Nodes are  ('OnePlus_Support', 'oneplus')\n",
      "Connected Nodes are  ('OnePlus_IN', 'oneplus')\n"
     ]
    }
   ],
   "source": [
    "nodetarget = 'oneplus'\n",
    "\n",
    "for tupley in master_edgelist:\n",
    "    if (tupley[0]==nodetarget) or (tupley[1]==nodetarget):\n",
    "        print('Connected Nodes are ', tupley)"
   ]
  },
  {
   "cell_type": "code",
   "execution_count": 27,
   "metadata": {
    "scrolled": false
   },
   "outputs": [
    {
     "name": "stdout",
     "output_type": "stream",
     "text": [
      "Connected Nodes are  ('oneplus', 'petelau2007')\n",
      "Connected Nodes are  ('OnePlus_FI', 'petelau2007')\n",
      "Connected Nodes are  ('McLarenF1', 'petelau2007')\n",
      "Connected Nodes are  ('OnePlus_USA', 'petelau2007')\n",
      "Connected Nodes are  ('UnboxTherapy', 'petelau2007')\n",
      "Connected Nodes are  ('OnePlus_ES', 'petelau2007')\n",
      "Connected Nodes are  ('OnePlus_DE', 'petelau2007')\n",
      "Connected Nodes are  ('petelau2007', 'McLarenF1')\n",
      "Connected Nodes are  ('petelau2007', 'ZBrownCEO')\n",
      "Connected Nodes are  ('petelau2007', 'JanetBrown980')\n",
      "Connected Nodes are  ('petelau2007', 'saschasegan')\n",
      "Connected Nodes are  ('petelau2007', 'Android')\n",
      "Connected Nodes are  ('petelau2007', 'ZacksJerryRig')\n",
      "Connected Nodes are  ('petelau2007', 'linusgsebastian')\n",
      "Connected Nodes are  ('petelau2007', 'jimmyfallon')\n",
      "Connected Nodes are  ('petelau2007', 'OnePlus_USA')\n",
      "Connected Nodes are  ('petelau2007', 'JeffBezos')\n",
      "Connected Nodes are  ('petelau2007', 'DanStrumpf')\n",
      "Connected Nodes are  ('petelau2007', 'poltronafrau')\n",
      "Connected Nodes are  ('petelau2007', 'poltronafraumia')\n",
      "Connected Nodes are  ('petelau2007', 'UnboxTherapy')\n",
      "Connected Nodes are  ('petelau2007', 'cristianoamon')\n",
      "Connected Nodes are  ('petelau2007', 'SamSindha')\n",
      "Connected Nodes are  ('petelau2007', 'JonFreier')\n",
      "Connected Nodes are  ('petelau2007', 'm_wan4life')\n",
      "Connected Nodes are  ('petelau2007', 'SievertMike')\n",
      "Connected Nodes are  ('petelau2007', 'braxtoncarter')\n",
      "Connected Nodes are  ('petelau2007', 'NevilleRay')\n",
      "Connected Nodes are  ('petelau2007', 'askdes')\n",
      "Connected Nodes are  ('petelau2007', 'ElisaOyj')\n",
      "Connected Nodes are  ('petelau2007', 'TMobile')\n",
      "Connected Nodes are  ('petelau2007', 'JohnLegere')\n",
      "Connected Nodes are  ('petelau2007', 'loginwood')\n",
      "Connected Nodes are  ('petelau2007', 'INTERlORS')\n",
      "Connected Nodes are  ('petelau2007', 'InteriorDesign')\n",
      "Connected Nodes are  ('petelau2007', 'thepandaily')\n",
      "Connected Nodes are  ('petelau2007', 'elonmusk')\n",
      "Connected Nodes are  ('petelau2007', 'Benioff')\n",
      "Connected Nodes are  ('petelau2007', 'jeffweiner')\n",
      "Connected Nodes are  ('petelau2007', 'satyanadella')\n",
      "Connected Nodes are  ('petelau2007', 'AmitMishra1207')\n",
      "Connected Nodes are  ('petelau2007', 'sundarpichai')\n",
      "Connected Nodes are  ('petelau2007', 'O2')\n",
      "Connected Nodes are  ('petelau2007', 'OnePlus_ES')\n",
      "Connected Nodes are  ('petelau2007', 'SrBachchan')\n",
      "Connected Nodes are  ('petelau2007', 'Shiningli_')\n",
      "Connected Nodes are  ('petelau2007', 'theMrMobile')\n",
      "Connected Nodes are  ('petelau2007', 'BernieSanders')\n",
      "Connected Nodes are  ('petelau2007', 'HillaryClinton')\n",
      "Connected Nodes are  ('petelau2007', 'BarackObama')\n",
      "Connected Nodes are  ('petelau2007', 'realDonaldTrump')\n",
      "Connected Nodes are  ('petelau2007', 'hbarra')\n",
      "Connected Nodes are  ('petelau2007', 'OnePlus_ITA')\n",
      "Connected Nodes are  ('petelau2007', 'comma_ai')\n",
      "Connected Nodes are  ('petelau2007', 'OnePlus_UK')\n",
      "Connected Nodes are  ('petelau2007', 'BBCWorld')\n",
      "Connected Nodes are  ('petelau2007', 'AP')\n",
      "Connected Nodes are  ('petelau2007', 'BBCBreaking')\n",
      "Connected Nodes are  ('petelau2007', 'Reuters')\n",
      "Connected Nodes are  ('petelau2007', 'business')\n",
      "Connected Nodes are  ('petelau2007', 'WSJ')\n",
      "Connected Nodes are  ('petelau2007', 'cnnbrk')\n",
      "Connected Nodes are  ('petelau2007', 'nytimes')\n",
      "Connected Nodes are  ('petelau2007', 'TheEconomist')\n",
      "Connected Nodes are  ('petelau2007', 'SamsungMobile')\n",
      "Connected Nodes are  ('petelau2007', 'NeowinFeed')\n",
      "Connected Nodes are  ('petelau2007', 'kevinabosch')\n",
      "Connected Nodes are  ('petelau2007', 'grupoblux')\n",
      "Connected Nodes are  ('petelau2007', 'James_fiio')\n",
      "Connected Nodes are  ('petelau2007', 'evleaks')\n",
      "Connected Nodes are  ('petelau2007', 'v_shakthi')\n",
      "Connected Nodes are  ('petelau2007', 'EternaLEnVy1991')\n",
      "Connected Nodes are  ('petelau2007', 'Arteezy')\n",
      "Connected Nodes are  ('petelau2007', 'ruttaa')\n",
      "Connected Nodes are  ('petelau2007', 'ryanfenwick')\n",
      "Connected Nodes are  ('petelau2007', 'StartupLJackson')\n",
      "Connected Nodes are  ('petelau2007', 'pmarca')\n",
      "Connected Nodes are  ('petelau2007', 'SimsTilve')\n",
      "Connected Nodes are  ('petelau2007', 'ShreyosiRaha')\n",
      "Connected Nodes are  ('petelau2007', 'yankodesign')\n",
      "Connected Nodes are  ('petelau2007', 'MohanSawhney')\n",
      "Connected Nodes are  ('petelau2007', 'oneplusisrael')\n",
      "Connected Nodes are  ('petelau2007', 'stevewoz')\n",
      "Connected Nodes are  ('petelau2007', 'masason')\n",
      "Connected Nodes are  ('petelau2007', 'nikesharora')\n",
      "Connected Nodes are  ('petelau2007', 'ericschmidt')\n",
      "Connected Nodes are  ('petelau2007', 'tim_cook')\n",
      "Connected Nodes are  ('petelau2007', '_sachinbansal')\n",
      "Connected Nodes are  ('petelau2007', 'bhash')\n",
      "Connected Nodes are  ('petelau2007', 'KS5')\n",
      "Connected Nodes are  ('petelau2007', 'amits89')\n",
      "Connected Nodes are  ('petelau2007', 'timamcdonough')\n",
      "Connected Nodes are  ('petelau2007', 'FastCompany')\n",
      "Connected Nodes are  ('petelau2007', 'LinkedIn')\n",
      "Connected Nodes are  ('petelau2007', 'Uber')\n",
      "Connected Nodes are  ('petelau2007', 'Tesla')\n",
      "Connected Nodes are  ('petelau2007', 'Indiegogo')\n",
      "Connected Nodes are  ('petelau2007', 'kickstarter')\n",
      "Connected Nodes are  ('petelau2007', 'Forbes')\n",
      "Connected Nodes are  ('petelau2007', 'TEDTalks')\n",
      "Connected Nodes are  ('petelau2007', 'Airbnb')\n",
      "Connected Nodes are  ('petelau2007', 'johnsculley')\n",
      "Connected Nodes are  ('petelau2007', 'helface')\n",
      "Connected Nodes are  ('petelau2007', 'ShardaVeeramaly')\n",
      "Connected Nodes are  ('petelau2007', 'Vikas_AGL')\n",
      "Connected Nodes are  ('petelau2007', 'AndroidDev')\n",
      "Connected Nodes are  ('petelau2007', 'Recode')\n",
      "Connected Nodes are  ('petelau2007', 'Qualcomm')\n",
      "Connected Nodes are  ('OnePlus_UK', 'petelau2007')\n",
      "Connected Nodes are  ('oneplus_fr', 'petelau2007')\n",
      "Connected Nodes are  ('OnePlus_Support', 'petelau2007')\n",
      "Connected Nodes are  ('OnePlus_IN', 'petelau2007')\n"
     ]
    }
   ],
   "source": [
    "nodetarget = 'petelau2007'\n",
    "\n",
    "for tupley in master_edgelist:\n",
    "    if (tupley[0]==nodetarget) or (tupley[1]==nodetarget):\n",
    "        print('Connected Nodes are ', tupley)"
   ]
  },
  {
   "cell_type": "code",
   "execution_count": 14,
   "metadata": {},
   "outputs": [
    {
     "name": "stdout",
     "output_type": "stream",
     "text": [
      "McLarenF1\n",
      "NickNoodlenick\n",
      "HuskiChocolate\n",
      "fotis78man\n",
      "F1Tricky\n",
      "Ashman95\n",
      "DestroyerxXF1\n",
      "chattysian\n",
      "gamsmits\n",
      "1gorFraga\n",
      "rafredarrows\n",
      "MarkPryde\n",
      "hringner\n",
      "FulbrookPE\n",
      "Bahrain_Merida\n",
      "TechnicalGuruji\n",
      "philiphornby\n",
      "FernsF1Tweets\n",
      "MiggsAubrey\n",
      "TeamHendrick\n",
      "SportByFort\n",
      "Gulen_Meredith\n",
      "sergiosettecama\n",
      "IainWitts\n",
      "Fran_Lorenzo95\n",
      "SimonHendy\n",
      "BBCTheOneShow\n",
      "RMFNE\n",
      "alasdairmulhern\n",
      "andrewmarkwhite\n",
      "BonzoKEN\n",
      "Mattrocchi\n",
      "Nintyworldchamp\n",
      "basakdalgic\n",
      "Shane84104524\n",
      "kazsmithF1\n",
      "Carlossainz55\n",
      "georette100\n",
      "Ste_mclarenfan\n",
      "AaronGillard_17\n",
      "debarooo\n",
      "GrahamDxon\n",
      "MclarenF1Adam\n",
      "OlliPahkala\n",
      "KarenMcelhatton\n",
      "edvaark\n",
      "D2BDofficial\n",
      "kpotts81\n",
      "NicciF1fan\n",
      "F1FansEyeView\n",
      "F1lippos\n",
      "McLarenCollectr\n",
      "RaceOfChampions\n",
      "McLarenShadow\n",
      "F1Good1\n",
      "timholmesdesign\n",
      "TimWatsonUK\n",
      "GdeFerran\n",
      "NickyByrne\n",
      "24hoursoflemans\n",
      "24heuresdumans\n",
      "MigueluVe\n",
      "danway60\n",
      "htcesports\n",
      "htc\n",
      "htcvive\n",
      "JBStoyou\n",
      "StaMcLaren\n",
      "RickettJonny\n",
      "thibautcourtois\n",
      "JimmieJohnson\n",
      "SuzanneArmstr20\n",
      "F1Media\n",
      "CaseyNeistat\n",
      "osbornejoe\n",
      "DoningtonParkUK\n",
      "CliveWoodward\n",
      "_SNFLWR27\n",
      "timkefford\n",
      "micahgianneli\n",
      "airline_B773787\n",
      "DylanFuture\n",
      "IgorKuzuro\n",
      "Jamie__Read\n",
      "McLarenFanChina\n",
      "Airgain\n",
      "DavidSkalos\n",
      "J_Wakkinen\n",
      "Kimoa\n",
      "F1GPCanada\n",
      "GPFranceF1\n",
      "KMcD47\n",
      "petrobras\n",
      "brandojay\n",
      "DellTech\n",
      "neymarjr\n",
      "Toyota_Hybrid\n",
      "CNBC\n",
      "CNBCi\n",
      "kauffmanrob\n"
     ]
    }
   ],
   "source": [
    "targetcom = [1]\n",
    "\n",
    "for x in part:\n",
    "    if part[x] in targetcom:\n",
    "        print(x)"
   ]
  }
 ],
 "metadata": {
  "kernelspec": {
   "display_name": "Python 3",
   "language": "python",
   "name": "python3"
  },
  "language_info": {
   "codemirror_mode": {
    "name": "ipython",
    "version": 3
   },
   "file_extension": ".py",
   "mimetype": "text/x-python",
   "name": "python",
   "nbconvert_exporter": "python",
   "pygments_lexer": "ipython3",
   "version": "3.6.5"
  }
 },
 "nbformat": 4,
 "nbformat_minor": 2
}
